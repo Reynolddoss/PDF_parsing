{
 "cells": [
  {
   "cell_type": "markdown",
   "metadata": {},
   "source": [
    "# Parsing the data from the PDF files to store in SQL"
   ]
  },
  {
   "cell_type": "code",
   "execution_count": 14,
   "metadata": {
    "collapsed": true
   },
   "outputs": [],
   "source": [
    "import PyPDF2\n",
    "import os\n",
    "import re\n",
    "from tqdm import tqdm\n",
    "import pandas as pd\n",
    "import sqlite3"
   ]
  },
  {
   "cell_type": "code",
   "execution_count": 39,
   "metadata": {
    "collapsed": true
   },
   "outputs": [],
   "source": [
    "def pdf2textReturn(l):\n",
    "    pdfFileObj = open(l, 'rb')\n",
    "    pdfReader = PyPDF2.PdfFileReader(pdfFileObj)\n",
    "    page = pdfReader.getPage(0)\n",
    "    Text = page.extractText()\n",
    "    return Text"
   ]
  },
  {
   "cell_type": "code",
   "execution_count": 40,
   "metadata": {
    "collapsed": true
   },
   "outputs": [],
   "source": [
    "def PDF2cleanText(path):\n",
    "    text = []\n",
    "    DEBUG =False\n",
    "    directory=path\n",
    "    l = []\n",
    "    for file in os.listdir(directory):\n",
    "        fl = directory + file\n",
    "        if DEBUG : print (fl)\n",
    "        l.append(fl)\n",
    "    l=sorted(l)\n",
    "    for i in l:\n",
    "        text.append(pdf2textReturn(i))\n",
    "    return text"
   ]
  },
  {
   "cell_type": "code",
   "execution_count": 41,
   "metadata": {
    "collapsed": true
   },
   "outputs": [],
   "source": [
    "# path of the directory which holds the pdf files\n",
    "path = '/home/reynold/Desktop/Zauba/data/'"
   ]
  },
  {
   "cell_type": "code",
   "execution_count": 42,
   "metadata": {},
   "outputs": [
    {
     "name": "stderr",
     "output_type": "stream",
     "text": [
      "100%|██████████| 3/3 [00:00<00:00, 3048.92it/s]\n"
     ]
    }
   ],
   "source": [
    "hold=[]\n",
    "rtt = PDF2cleanText(path)\n",
    "for i in tqdm(range(len(rtt))):\n",
    "    Text = rtt[i] \n",
    "    SRN  = re.findall('([U]\\d{1,8})',Text)[0]\n",
    "    SRD  = re.findall('(\\d\\d/\\d\\d/\\d\\d\\d\\d)',Text)[0]\n",
    "    SRA  = re.findall(r':Address.+\\d\\d\\d\\d\\d\\d\\d\\d',Text)[0].split(\":\")[2]\n",
    "    STYP = re.findall(r'Type:.+Service',Text)[0].split(\":\")[1]\n",
    "    SDES = re.sub(r'Remittance','',re.findall(r'Remittance.+\\d\\d\\d\\d',Text)[0])+')'\n",
    "    SRPS = re.sub(r'Received Payment Rupees:','',re.findall(r'Received Payment Rupees:.+',Text)[0])\n",
    "    SMOD = re.sub(r'Mode of Payment:Note:','',re.findall(r'Mode of Payment:.+Received',Text)[0])\n",
    "    STOT = re.sub(r'Total','',re.findall(r'Total\\S+',Text)[0])\n",
    "    pat  = re.findall(r'\\S+.\\d\\d.Total',Text)[0].split(\")\")[1].split()[0]\n",
    "    SAMT = re.findall(r'\\d\\S+',pat)[0]\n",
    "    SFEE = re.sub(SAMT,'',pat)\n",
    "    hold.append([SRN,SRD,SRA,STYP,SDES,SRPS,STOT,SAMT,SFEE])"
   ]
  },
  {
   "cell_type": "code",
   "execution_count": 43,
   "metadata": {
    "collapsed": true
   },
   "outputs": [],
   "source": [
    "SRN  = \"SRN_no\"\n",
    "SRD  = \"Date\"\n",
    "SRA  = \"Name_and_Address\"\n",
    "STYP = \"Service_Type\"\n",
    "SDES = \"Service_Description\"\n",
    "SRPS = \"Received_Payment_Rupees\"\n",
    "STOT = \"Total\"\n",
    "SAMT = \"Amount\"\n",
    "SFEE = \"Types_of_Fees\"\n",
    "\n",
    "colname = [\"SRN_no\",\"Date\",\"Name_and_Address\",\"Service_Type\",\"Service_Description\",\n",
    "          \"Received_Payment_Rupees\",\"Total\",\"Amount\",\"Types_of_Fees\"]"
   ]
  },
  {
   "cell_type": "code",
   "execution_count": 44,
   "metadata": {
    "collapsed": true
   },
   "outputs": [],
   "source": [
    "# Creating a dataframe for storing the pdf data\n",
    "dataframe = pd.DataFrame(hold,columns=colname)"
   ]
  },
  {
   "cell_type": "code",
   "execution_count": 45,
   "metadata": {},
   "outputs": [
    {
     "data": {
      "text/html": [
       "<div>\n",
       "<style>\n",
       "    .dataframe thead tr:only-child th {\n",
       "        text-align: right;\n",
       "    }\n",
       "\n",
       "    .dataframe thead th {\n",
       "        text-align: left;\n",
       "    }\n",
       "\n",
       "    .dataframe tbody tr th {\n",
       "        vertical-align: top;\n",
       "    }\n",
       "</style>\n",
       "<table border=\"1\" class=\"dataframe\">\n",
       "  <thead>\n",
       "    <tr style=\"text-align: right;\">\n",
       "      <th></th>\n",
       "      <th>SRN_no</th>\n",
       "      <th>Date</th>\n",
       "      <th>Name_and_Address</th>\n",
       "      <th>Service_Type</th>\n",
       "      <th>Service_Description</th>\n",
       "      <th>Received_Payment_Rupees</th>\n",
       "      <th>Total</th>\n",
       "      <th>Amount</th>\n",
       "      <th>Types_of_Fees</th>\n",
       "    </tr>\n",
       "  </thead>\n",
       "  <tbody>\n",
       "    <tr>\n",
       "      <th>0</th>\n",
       "      <td>U16571275</td>\n",
       "      <td>03/08/2017</td>\n",
       "      <td>Zauba Technologies and Data Services PrivatNo ...</td>\n",
       "      <td>Fee for inspection of Public documentsService</td>\n",
       "      <td>Inspection of Public documents of KEYSTONE REA...</td>\n",
       "      <td>One Hundred Only</td>\n",
       "      <td>100.00</td>\n",
       "      <td>100.00</td>\n",
       "      <td>Normal</td>\n",
       "    </tr>\n",
       "    <tr>\n",
       "      <th>1</th>\n",
       "      <td>U16572745</td>\n",
       "      <td>03/08/2017</td>\n",
       "      <td>Zauba Technologies and Data Services PrivatNo ...</td>\n",
       "      <td>Fee for inspection of Public documentsService</td>\n",
       "      <td>Inspection of Public documents of LANDMARK CRA...</td>\n",
       "      <td>One Hundred Only</td>\n",
       "      <td>100.00</td>\n",
       "      <td>100.00</td>\n",
       "      <td>Normal</td>\n",
       "    </tr>\n",
       "    <tr>\n",
       "      <th>2</th>\n",
       "      <td>U16573131</td>\n",
       "      <td>03/08/2017</td>\n",
       "      <td>Zauba Technologies and Data Services PrivatNo ...</td>\n",
       "      <td>Fee for inspection of Public documentsService</td>\n",
       "      <td>Inspection of Public documents of WESNIA INFO ...</td>\n",
       "      <td>One Hundred Only</td>\n",
       "      <td>100.00</td>\n",
       "      <td>100.00</td>\n",
       "      <td>Normal</td>\n",
       "    </tr>\n",
       "  </tbody>\n",
       "</table>\n",
       "</div>"
      ],
      "text/plain": [
       "      SRN_no        Date                                   Name_and_Address  \\\n",
       "0  U16571275  03/08/2017  Zauba Technologies and Data Services PrivatNo ...   \n",
       "1  U16572745  03/08/2017  Zauba Technologies and Data Services PrivatNo ...   \n",
       "2  U16573131  03/08/2017  Zauba Technologies and Data Services PrivatNo ...   \n",
       "\n",
       "                                    Service_Type  \\\n",
       "0  Fee for inspection of Public documentsService   \n",
       "1  Fee for inspection of Public documentsService   \n",
       "2  Fee for inspection of Public documentsService   \n",
       "\n",
       "                                 Service_Description Received_Payment_Rupees  \\\n",
       "0  Inspection of Public documents of KEYSTONE REA...        One Hundred Only   \n",
       "1  Inspection of Public documents of LANDMARK CRA...        One Hundred Only   \n",
       "2  Inspection of Public documents of WESNIA INFO ...        One Hundred Only   \n",
       "\n",
       "    Total  Amount Types_of_Fees  \n",
       "0  100.00  100.00        Normal  \n",
       "1  100.00  100.00        Normal  \n",
       "2  100.00  100.00        Normal  "
      ]
     },
     "execution_count": 45,
     "metadata": {},
     "output_type": "execute_result"
    }
   ],
   "source": [
    "dataframe"
   ]
  },
  {
   "cell_type": "code",
   "execution_count": 52,
   "metadata": {
    "collapsed": true
   },
   "outputs": [],
   "source": [
    "#Zauba is the database name \n",
    "conn = sqlite3.connect(\"Zauba.db\")\n",
    "cur = conn.cursor()"
   ]
  },
  {
   "cell_type": "code",
   "execution_count": 53,
   "metadata": {},
   "outputs": [],
   "source": [
    "# Receipt is the name of the table in the Zauba database\n",
    "# if a table already exists and needs to be updated the parameter if_exists is to be changed to append\n",
    "dataframe.to_sql(\"receipt\", conn, if_exists=\"replace\")\n"
   ]
  },
  {
   "cell_type": "markdown",
   "metadata": {},
   "source": [
    "# Readng the data from sql database"
   ]
  },
  {
   "cell_type": "code",
   "execution_count": 54,
   "metadata": {},
   "outputs": [
    {
     "data": {
      "text/html": [
       "<div>\n",
       "<style>\n",
       "    .dataframe thead tr:only-child th {\n",
       "        text-align: right;\n",
       "    }\n",
       "\n",
       "    .dataframe thead th {\n",
       "        text-align: left;\n",
       "    }\n",
       "\n",
       "    .dataframe tbody tr th {\n",
       "        vertical-align: top;\n",
       "    }\n",
       "</style>\n",
       "<table border=\"1\" class=\"dataframe\">\n",
       "  <thead>\n",
       "    <tr style=\"text-align: right;\">\n",
       "      <th></th>\n",
       "      <th>index</th>\n",
       "      <th>SRN_no</th>\n",
       "      <th>Date</th>\n",
       "      <th>Name_and_Address</th>\n",
       "      <th>Service_Type</th>\n",
       "      <th>Service_Description</th>\n",
       "      <th>Received_Payment_Rupees</th>\n",
       "      <th>Total</th>\n",
       "      <th>Amount</th>\n",
       "      <th>Types_of_Fees</th>\n",
       "    </tr>\n",
       "  </thead>\n",
       "  <tbody>\n",
       "    <tr>\n",
       "      <th>0</th>\n",
       "      <td>0</td>\n",
       "      <td>U16571275</td>\n",
       "      <td>03/08/2017</td>\n",
       "      <td>Zauba Technologies and Data Services PrivatNo ...</td>\n",
       "      <td>Fee for inspection of Public documentsService</td>\n",
       "      <td>Inspection of Public documents of KEYSTONE REA...</td>\n",
       "      <td>One Hundred Only</td>\n",
       "      <td>100.00</td>\n",
       "      <td>100.00</td>\n",
       "      <td>Normal</td>\n",
       "    </tr>\n",
       "    <tr>\n",
       "      <th>1</th>\n",
       "      <td>1</td>\n",
       "      <td>U16572745</td>\n",
       "      <td>03/08/2017</td>\n",
       "      <td>Zauba Technologies and Data Services PrivatNo ...</td>\n",
       "      <td>Fee for inspection of Public documentsService</td>\n",
       "      <td>Inspection of Public documents of LANDMARK CRA...</td>\n",
       "      <td>One Hundred Only</td>\n",
       "      <td>100.00</td>\n",
       "      <td>100.00</td>\n",
       "      <td>Normal</td>\n",
       "    </tr>\n",
       "  </tbody>\n",
       "</table>\n",
       "</div>"
      ],
      "text/plain": [
       "   index     SRN_no        Date  \\\n",
       "0      0  U16571275  03/08/2017   \n",
       "1      1  U16572745  03/08/2017   \n",
       "\n",
       "                                    Name_and_Address  \\\n",
       "0  Zauba Technologies and Data Services PrivatNo ...   \n",
       "1  Zauba Technologies and Data Services PrivatNo ...   \n",
       "\n",
       "                                    Service_Type  \\\n",
       "0  Fee for inspection of Public documentsService   \n",
       "1  Fee for inspection of Public documentsService   \n",
       "\n",
       "                                 Service_Description Received_Payment_Rupees  \\\n",
       "0  Inspection of Public documents of KEYSTONE REA...        One Hundred Only   \n",
       "1  Inspection of Public documents of LANDMARK CRA...        One Hundred Only   \n",
       "\n",
       "    Total  Amount Types_of_Fees  \n",
       "0  100.00  100.00        Normal  \n",
       "1  100.00  100.00        Normal  "
      ]
     },
     "execution_count": 54,
     "metadata": {},
     "output_type": "execute_result"
    }
   ],
   "source": [
    "pd.read_sql_query(\"select * from receipt limit 2;\", conn)"
   ]
  },
  {
   "cell_type": "code",
   "execution_count": 25,
   "metadata": {
    "collapsed": true
   },
   "outputs": [],
   "source": [
    "conn.close()"
   ]
  }
 ],
 "metadata": {
  "kernelspec": {
   "display_name": "Python 3",
   "language": "python",
   "name": "python3"
  },
  "language_info": {
   "codemirror_mode": {
    "name": "ipython",
    "version": 3
   },
   "file_extension": ".py",
   "mimetype": "text/x-python",
   "name": "python",
   "nbconvert_exporter": "python",
   "pygments_lexer": "ipython3",
   "version": "3.6.3"
  }
 },
 "nbformat": 4,
 "nbformat_minor": 2
}
